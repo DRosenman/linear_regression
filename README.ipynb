{
 "cells": [
  {
   "cell_type": "markdown",
   "metadata": {},
   "source": [
    "# linear_regression Version 0.1\n",
    "- <a href=\"#installing\">Installing The Package</a>\n",
    "- <a href=\"#purpose\">Purpose of Package</a>\n",
    "- <a href=\"#comparison\">Comparison with scipy.stats.linregress</a> \n",
    "- <a href=\"#using\">Using The Package</a>\n",
    "- <a href=\"#equations\">Linear Regression Mathematical Equations</a>\n",
    "- <a href=\"#v.2\">Plans for Version 0.2</a>\n",
    "\n",
    " "
   ]
  },
  {
   "cell_type": "markdown",
   "metadata": {},
   "source": [
    "## Installing the Package <a name=\"installing\"></a>\n",
    "From the command line:\n",
    "```cmd\n",
    "pip install linear_regression\n",
    "```\n",
    "\n",
    "Also available at <a href=\"https://pypi.python.org/pypi?name=linear-regression&version=0.1&:action=display\">https://pypi.python.org/pypi?name=linear-regression&version=0.1&:action=display</a>\n",
    "\n",
    "## <a name=\"purpose\"></a> Purpose of Package \n",
    "The purpose of this package is to make it simple to perform simple least squares regression analysis on two sets of measurements. The scipy.stats module contains a function 'linregress' that can quickly perform regression analysis on two sets of measurements, but it does not have the option to force the best fit line to intercept the origin (i.e. to have a y intercept of 0). It also lacks other options, as demonstrated in the comparison below.\n",
    "\n",
    "<a name=\"comparison\"></a>\n",
    "## Comparison Between scipy.stats.linregress and the linear_regression package: \n",
    "| Best Fit Line (BFL) Attributes and Options      | linear_regression v0.1| scipy.stat.linregress  |\n",
    "| ------------- |:-------------:| -----:|\n",
    "| slope     | Yes | Yes |\n",
    "| std. error of slope|Yes|Yes|\n",
    "| y-intercept | Yes|Yes |\n",
    "|r (correlation coefficient)|Yes|Yes|\n",
    "|r-squared|Yes|No|\n",
    "|p-value|No|Yes|\n",
    "|std. error of y-intercept|Yes|No|\n",
    "|slope of BFL through origin|Yes|No|\n",
    "|std. error of slope of BFL through origin|Yes|No|\n",
    "|r for BFL through origin|Yes|No|\n",
    "|r-squared for BFL through origin|Yes|No|\n",
    "|Returns Regression Results As|Pandas DataFrame or String|Tuple|\n",
    "|Option To Return Results For BFL, BFL through origin, or both simultaneously|Yes|No|\n",
    "\n",
    "\n",
    "\n",
    "## Using  The Package <a name=\"using\"></a> \n",
    "\n",
    "Version 0.1 of this package only contains a single module, <a href =\"http://github.com/drosenman/linear_regression/v0.1/lr.py\">lr.py</a>,  which contains a simple class named lr.\n",
    "\n",
    "### **Load The lr class**"
   ]
  },
  {
   "cell_type": "code",
   "execution_count": 3,
   "metadata": {
    "collapsed": true
   },
   "outputs": [],
   "source": [
    "from linear_regression.lr import lr"
   ]
  },
  {
   "cell_type": "markdown",
   "metadata": {},
   "source": [
    "### Store the x and y coordinates from you dataset into seperate array-like object (arrays, np arrays, lists, tuples...)\n",
    "\n",
    "Example: My dataset contains the following (x,y) data points:\n",
    "\n",
    "(1.0,2.2), (1.8,3.8),(4.5,6.3), (5.2, 9.3)\n",
    "\n",
    "I then create a list for the x coordinates and a list for the y coordinates below:"
   ]
  },
  {
   "cell_type": "code",
   "execution_count": 8,
   "metadata": {
    "collapsed": true
   },
   "outputs": [],
   "source": [
    "x = [1.0,1.8,4.5,4.7,5.0]\n",
    "y = [2.2,3.8,6.4,7.2,9.3]"
   ]
  },
  {
   "cell_type": "markdown",
   "metadata": {},
   "source": [
    "### Create an instance object of the lr class using the x and y variables are instance arguments. \n",
    "\n",
    "I'll name my object data. I will use this object throughout the tutorial.\n"
   ]
  },
  {
   "cell_type": "code",
   "execution_count": 9,
   "metadata": {
    "collapsed": true
   },
   "outputs": [],
   "source": [
    "data = lr(x,y)"
   ]
  },
  {
   "cell_type": "markdown",
   "metadata": {},
   "source": [
    "### lr Object Methods \n",
    "**results** \n",
    "\n",
    "*parameters*: \n",
    "\n",
    " - zero_intercept: (default value is False) if set to True, returns DataFrame for the best fit line through the origin.\n",
    " \n",
    " - both: (default value is False) if set to True, returns DataFrame  both the best fit line and the best fit line through the origin (both overrides zero_intercept if both is set to True).\n",
    " \n",
    "*returns*:\n",
    " - DataFrame contaning slope, y-intercept, std.error of slope, std. error of y intercept, r, and r-squared for either the regular best fit line, the best fit line through the origin, or both the regular best fit line + the best fit line through the origin.\n",
    " \n",
    "*__Examples__*:"
   ]
  },
  {
   "cell_type": "code",
   "execution_count": 38,
   "metadata": {},
   "outputs": [
    {
     "data": {
      "text/html": [
       "<div>\n",
       "<style>\n",
       "    .dataframe thead tr:only-child th {\n",
       "        text-align: right;\n",
       "    }\n",
       "\n",
       "    .dataframe thead th {\n",
       "        text-align: left;\n",
       "    }\n",
       "\n",
       "    .dataframe tbody tr th {\n",
       "        vertical-align: top;\n",
       "    }\n",
       "</style>\n",
       "<table border=\"1\" class=\"dataframe\">\n",
       "  <thead>\n",
       "    <tr style=\"text-align: right;\">\n",
       "      <th></th>\n",
       "      <th>Slope</th>\n",
       "      <th>Intercept</th>\n",
       "      <th>Std. Error, Slope</th>\n",
       "      <th>Std. Error, Intercept</th>\n",
       "      <th>r</th>\n",
       "      <th>r-squared</th>\n",
       "    </tr>\n",
       "  </thead>\n",
       "  <tbody>\n",
       "    <tr>\n",
       "      <th>BFL</th>\n",
       "      <td>1.445573</td>\n",
       "      <td>0.865051</td>\n",
       "      <td>0.257081</td>\n",
       "      <td>0.972703</td>\n",
       "      <td>0.955689</td>\n",
       "      <td>0.913341</td>\n",
       "    </tr>\n",
       "  </tbody>\n",
       "</table>\n",
       "</div>"
      ],
      "text/plain": [
       "        Slope  Intercept  Std. Error, Slope  Std. Error, Intercept         r  \\\n",
       "BFL  1.445573   0.865051           0.257081               0.972703  0.955689   \n",
       "\n",
       "     r-squared  \n",
       "BFL   0.913341  "
      ]
     },
     "execution_count": 38,
     "metadata": {},
     "output_type": "execute_result"
    }
   ],
   "source": [
    "regression_results = data.results() #No parameters specified, so by default returns \n",
    "                                    #DataFrame with values for the regular best fit line \n",
    "regression_results"
   ]
  },
  {
   "cell_type": "code",
   "execution_count": 39,
   "metadata": {},
   "outputs": [
    {
     "data": {
      "text/html": [
       "<div>\n",
       "<style>\n",
       "    .dataframe thead tr:only-child th {\n",
       "        text-align: right;\n",
       "    }\n",
       "\n",
       "    .dataframe thead th {\n",
       "        text-align: left;\n",
       "    }\n",
       "\n",
       "    .dataframe tbody tr th {\n",
       "        vertical-align: top;\n",
       "    }\n",
       "</style>\n",
       "<table border=\"1\" class=\"dataframe\">\n",
       "  <thead>\n",
       "    <tr style=\"text-align: right;\">\n",
       "      <th></th>\n",
       "      <th>Slope</th>\n",
       "      <th>Intercept</th>\n",
       "      <th>Std. Error, Slope</th>\n",
       "      <th>r</th>\n",
       "      <th>r-squared</th>\n",
       "    </tr>\n",
       "  </thead>\n",
       "  <tbody>\n",
       "    <tr>\n",
       "      <th>BFL Through (0,0)</th>\n",
       "      <td>1.65102</td>\n",
       "      <td>0.0</td>\n",
       "      <td>0.109809</td>\n",
       "      <td>0.991269</td>\n",
       "      <td>0.982613</td>\n",
       "    </tr>\n",
       "  </tbody>\n",
       "</table>\n",
       "</div>"
      ],
      "text/plain": [
       "                     Slope  Intercept  Std. Error, Slope         r  r-squared\n",
       "BFL Through (0,0)  1.65102        0.0           0.109809  0.991269   0.982613"
      ]
     },
     "execution_count": 39,
     "metadata": {},
     "output_type": "execute_result"
    }
   ],
   "source": [
    "data.results(zero_intercept = True) #Retuns DataFrame with results for the best fit line through the origin"
   ]
  },
  {
   "cell_type": "code",
   "execution_count": 40,
   "metadata": {},
   "outputs": [
    {
     "data": {
      "text/html": [
       "<div>\n",
       "<style>\n",
       "    .dataframe thead tr:only-child th {\n",
       "        text-align: right;\n",
       "    }\n",
       "\n",
       "    .dataframe thead th {\n",
       "        text-align: left;\n",
       "    }\n",
       "\n",
       "    .dataframe tbody tr th {\n",
       "        vertical-align: top;\n",
       "    }\n",
       "</style>\n",
       "<table border=\"1\" class=\"dataframe\">\n",
       "  <thead>\n",
       "    <tr style=\"text-align: right;\">\n",
       "      <th></th>\n",
       "      <th>Slope</th>\n",
       "      <th>Intercept</th>\n",
       "      <th>Std. Error, Slope</th>\n",
       "      <th>Std. Error, Intercept</th>\n",
       "      <th>r</th>\n",
       "      <th>r-squared</th>\n",
       "    </tr>\n",
       "  </thead>\n",
       "  <tbody>\n",
       "    <tr>\n",
       "      <th>BFL</th>\n",
       "      <td>1.445573</td>\n",
       "      <td>0.865051</td>\n",
       "      <td>0.257081</td>\n",
       "      <td>0.972703</td>\n",
       "      <td>0.955689</td>\n",
       "      <td>0.913341</td>\n",
       "    </tr>\n",
       "    <tr>\n",
       "      <th>BFL Through (0,0)</th>\n",
       "      <td>1.651020</td>\n",
       "      <td>0.000000</td>\n",
       "      <td>0.109809</td>\n",
       "      <td>NaN</td>\n",
       "      <td>0.991269</td>\n",
       "      <td>0.982613</td>\n",
       "    </tr>\n",
       "  </tbody>\n",
       "</table>\n",
       "</div>"
      ],
      "text/plain": [
       "                      Slope  Intercept  Std. Error, Slope  \\\n",
       "BFL                1.445573   0.865051           0.257081   \n",
       "BFL Through (0,0)  1.651020   0.000000           0.109809   \n",
       "\n",
       "                   Std. Error, Intercept         r  r-squared  \n",
       "BFL                             0.972703  0.955689   0.913341  \n",
       "BFL Through (0,0)                    NaN  0.991269   0.982613  "
      ]
     },
     "execution_count": 40,
     "metadata": {},
     "output_type": "execute_result"
    }
   ],
   "source": [
    "data.results(both = True) #Returns DataFrame with values for both the regular best \n",
    "                          # fit line and the best fit line through the origin"
   ]
  },
  {
   "cell_type": "markdown",
   "metadata": {},
   "source": [
    "**Printing the object**\n",
    "\n",
    "If you print your lr object, it will return a string with the regression results for both the best fit line and the best fit line through the origin.\n",
    "\n",
    "*__Example using the data lr object:__*"
   ]
  },
  {
   "cell_type": "code",
   "execution_count": 41,
   "metadata": {},
   "outputs": [
    {
     "name": "stdout",
     "output_type": "stream",
     "text": [
      "LINEAR LEAST-SQUARES REGRESSION ANALYSIS\n",
      "\n",
      "BEST FIT LINE:\n",
      "slope = 1.44557329463\n",
      "intercept = 0.865050798258\n",
      "std. error, slope = 0.257080665506\n",
      "std. error, intercept = 0.972703011277\n",
      "r = 0.955688839522\n",
      "r-squared = 0.913341157987\n",
      "number of data points = 5\n",
      "\n",
      "BEST FIT LINE THROUGH THE ORIGIN, (0,0):\n",
      "slope = 1.65101983794\n",
      "intercept = 0.0\n",
      "std. error, slope = 0.109809386014\n",
      "r = 0.991268534449\n",
      "r-squared = 0.982613307389\n",
      "number of data points = 5\n"
     ]
    }
   ],
   "source": [
    "print(data)"
   ]
  },
  {
   "cell_type": "markdown",
   "metadata": {},
   "source": [
    "### lr Object Attributes"
   ]
  },
  {
   "cell_type": "markdown",
   "metadata": {},
   "source": [
    "**slope** - returns the slope of the best fit line."
   ]
  },
  {
   "cell_type": "code",
   "execution_count": 24,
   "metadata": {},
   "outputs": [
    {
     "name": "stdout",
     "output_type": "stream",
     "text": [
      "1.44557329463\n"
     ]
    }
   ],
   "source": [
    "print(data.slope)"
   ]
  },
  {
   "cell_type": "markdown",
   "metadata": {},
   "source": [
    "**slope00** - returns the slope of the best fit line through the origin"
   ]
  },
  {
   "cell_type": "code",
   "execution_count": 25,
   "metadata": {},
   "outputs": [
    {
     "name": "stdout",
     "output_type": "stream",
     "text": [
      "1.65101983794\n"
     ]
    }
   ],
   "source": [
    "print(data.slope00)"
   ]
  },
  {
   "cell_type": "markdown",
   "metadata": {},
   "source": [
    "**intercept** - returns the y-intercept of the best fit line"
   ]
  },
  {
   "cell_type": "code",
   "execution_count": 30,
   "metadata": {},
   "outputs": [
    {
     "name": "stdout",
     "output_type": "stream",
     "text": [
      "0.865050798258\n"
     ]
    }
   ],
   "source": [
    "print(data.intercept)"
   ]
  },
  {
   "cell_type": "markdown",
   "metadata": {},
   "source": [
    "**slope_std_error** - returns the std. error of the slope of the best fit line"
   ]
  },
  {
   "cell_type": "code",
   "execution_count": 26,
   "metadata": {},
   "outputs": [
    {
     "name": "stdout",
     "output_type": "stream",
     "text": [
      "0.257080665506\n"
     ]
    }
   ],
   "source": [
    "print(data.slope_std_error)"
   ]
  },
  {
   "cell_type": "markdown",
   "metadata": {},
   "source": [
    "**slope_std_error00** - returns the std. error of the slope of the best fit line through the origin"
   ]
  },
  {
   "cell_type": "code",
   "execution_count": 28,
   "metadata": {},
   "outputs": [
    {
     "name": "stdout",
     "output_type": "stream",
     "text": [
      "0.109809386014\n"
     ]
    }
   ],
   "source": [
    "print(data.slope_std_error00)"
   ]
  },
  {
   "cell_type": "markdown",
   "metadata": {},
   "source": [
    "**intercept_std_error** - returns the std. error of the intercept of the best fit line"
   ]
  },
  {
   "cell_type": "code",
   "execution_count": 31,
   "metadata": {},
   "outputs": [
    {
     "name": "stdout",
     "output_type": "stream",
     "text": [
      "0.972703011277\n"
     ]
    }
   ],
   "source": [
    "print(data.intercept_std_error)"
   ]
  },
  {
   "cell_type": "markdown",
   "metadata": {},
   "source": [
    "**r** - returns the correlation coefficient"
   ]
  },
  {
   "cell_type": "code",
   "execution_count": 33,
   "metadata": {},
   "outputs": [
    {
     "name": "stdout",
     "output_type": "stream",
     "text": [
      "0.955688839522\n"
     ]
    }
   ],
   "source": [
    "print(data.r)"
   ]
  },
  {
   "cell_type": "markdown",
   "metadata": {},
   "source": [
    "**r00** - returns the correlation coefficient for the BFL through the origin"
   ]
  },
  {
   "cell_type": "code",
   "execution_count": 34,
   "metadata": {},
   "outputs": [
    {
     "name": "stdout",
     "output_type": "stream",
     "text": [
      "0.991268534449\n"
     ]
    }
   ],
   "source": [
    "print(data.r00)"
   ]
  },
  {
   "cell_type": "markdown",
   "metadata": {},
   "source": [
    "## Linear Regression Mathematical Equations<a name='equations'></a>\n",
    "If you have taken $\\mathrm{n}$ pairs of measurements $(x_1,y_1),(x_2,y_2),...,(x_n,y_n)$, the mean value of $\\mathrm{x}$ is by definition:\n",
    "$$\\bar{x} = \\frac{1}{n}\\sum_{i=1}^n{x_i}$$\n",
    "\n",
    "and the mean value of $\\mathrm{y}$ is \n",
    "$$\\bar{y} = \\frac{1}{n}\\sum_{i=1}^n{y_i}$$\n",
    "\n",
    "\n",
    "The slope of the best fit line, $\\mathrm{m}$ is given by:\n",
    "\n",
    "$$m = \\frac{\\sum_{i=1}^n{(x_i - \\bar{x})y_i}}{\\sum_{i=1}^n{(x_i - \\bar{x})^2}}\n",
    "$$\n",
    "\n",
    "\n",
    "The $\\mathrm{y}$-intercept, $\\mathrm{c}$, is given by:\n",
    "$$c = \\bar{y} - m\\bar{x}$$\n",
    "\n",
    "\n",
    "The standard error in the slope, $\\Delta m$, is:\n",
    "$$\\Delta m = \\sqrt{\\frac{1}{\\sum_{i=1}^n{(x_i - \\bar{x})^2}}\\frac{\\sum_{i=1}^n{(y_i - mx_i - c )^2}}{n-2}}$$\n",
    "\n",
    "\n",
    "The standard error in the y intercept, $\\Delta c$ is:\n",
    "$$\\Delta c = \\sqrt{\\left(\\frac{1}{n} + \\frac{\\bar{x}^2}{\\sum_{i=1}^n{(x_i-\\bar{x})^2}}\\right)\\frac{\\sum_{i=1}^n{(y_i - mx_i - c )^2}}{n-2}}$$\n",
    "\n",
    "\n",
    "**If the best fit is required to pass through the origin**, $(0,0)$, then $c = 0$, and \n",
    "$$m = \\frac{\\sum_{i=1}^n{x_iy_i}}{\\sum_{i=1}^n{x_i^2}}$$\n",
    "\n",
    "\n",
    "and the standard error of the slope, $\\Delta m$ is\n",
    "$$\\Delta m = \\sqrt{\\frac{1}{\\sum_{i=1}^n{x_i^2}}\\frac{\\sum_{i=1}^n(y_i - mx_i)^2}{n-1}}$$"
   ]
  },
  {
   "cell_type": "markdown",
   "metadata": {},
   "source": [
    "## Plans for Version 0.2 <a name='v.2'></a>\n",
    "- Add module for creating various regression plots.\n",
    "\n",
    "- Add p-value for BFL and BFL through origin\n"
   ]
  }
 ],
 "metadata": {
  "kernelspec": {
   "display_name": "Python 3",
   "language": "python",
   "name": "python3"
  },
  "language_info": {
   "codemirror_mode": {
    "name": "ipython",
    "version": 3
   },
   "file_extension": ".py",
   "mimetype": "text/x-python",
   "name": "python",
   "nbconvert_exporter": "python",
   "pygments_lexer": "ipython3",
   "version": "3.6.1"
  }
 },
 "nbformat": 4,
 "nbformat_minor": 2
}
